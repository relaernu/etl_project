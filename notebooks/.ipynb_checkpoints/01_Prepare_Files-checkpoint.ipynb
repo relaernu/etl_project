{
 "cells": [
  {
   "cell_type": "code",
   "execution_count": 1,
   "metadata": {},
   "outputs": [],
   "source": [
    "# import lib for normal url get download\n",
    "from urllib import request"
   ]
  },
  {
   "cell_type": "code",
   "execution_count": 2,
   "metadata": {},
   "outputs": [],
   "source": [
    "# download title.basics.tsv.gz and title.ratings.tsv.gz from imdb\n",
    "url_title = \"https://datasets.imdbws.com/title.basics.tsv.gz\"\n",
    "url_rating = \"https://datasets.imdbws.com/title.ratings.tsv.gz\"\n",
    "url_crew = \"https://datasets.imdbws.com/title.crew.tsv.gz\"\n",
    "download_folder = \"../resources/\""
   ]
  },
  {
   "cell_type": "code",
   "execution_count": 3,
   "metadata": {},
   "outputs": [
    {
     "data": {
      "text/plain": [
       "('../resources/title.tsv.gz', <http.client.HTTPMessage at 0x16c98539310>)"
      ]
     },
     "execution_count": 3,
     "metadata": {},
     "output_type": "execute_result"
    }
   ],
   "source": [
    "# download title.basics.tsv.gz and save into ../resources/title.tsv.gz\n",
    "request.urlretrieve(url_title, download_folder + \"title.tsv.gz\")"
   ]
  },
  {
   "cell_type": "code",
   "execution_count": 4,
   "metadata": {},
   "outputs": [
    {
     "data": {
      "text/plain": [
       "('../resources/rating.tsv.gz', <http.client.HTTPMessage at 0x16c985671c0>)"
      ]
     },
     "execution_count": 4,
     "metadata": {},
     "output_type": "execute_result"
    }
   ],
   "source": [
    "# download title.ratings.tsv.gz and save into ../resources/rating.tsv.gz\n",
    "request.urlretrieve(url_rating, download_folder + \"rating.tsv.gz\")"
   ]
  },
  {
   "cell_type": "code",
   "execution_count": 5,
   "metadata": {},
   "outputs": [
    {
     "data": {
      "text/plain": [
       "('../resources/crew.tsv.gz', <http.client.HTTPMessage at 0x16c98567550>)"
      ]
     },
     "execution_count": 5,
     "metadata": {},
     "output_type": "execute_result"
    }
   ],
   "source": [
    "# download title.crew.tsv.gz and save into ../resources/title.crew.tsv.gz\n",
    "request.urlretrieve(url_rating, download_folder + \"crew.tsv.gz\")"
   ]
  },
  {
   "cell_type": "code",
   "execution_count": 6,
   "metadata": {},
   "outputs": [
    {
     "name": "stdout",
     "output_type": "stream",
     "text": [
      "True\n",
      "True\n",
      "True\n"
     ]
    }
   ],
   "source": [
    "# use kaggle api to retrive netflix and disney+ data\n",
    "# pip install kaggle first\n",
    "# for username and key, go to kaggle.com -> account -> create new api token to get the kaggle.json \n",
    "import json\n",
    "import myfunc\n",
    "\n",
    "with open(\"../kaggle.json\") as json_file:\n",
    "    kaggle_secret = json.load(json_file)\n",
    "\n",
    "# disney+ data at https://www.kaggle.com/unanimad/disney-plus-shows\n",
    "ddict = {\n",
    "    \"key\" : kaggle_secret[\"key\"],\n",
    "    \"username\" : kaggle_secret[\"username\"],\n",
    "    \"url\" : \"https://www.kaggle.com/unanimad/disney-plus-shows\",\n",
    "    \"file\" : \"disney_plus_shows.csv\",\n",
    "    \"folder\" : download_folder\n",
    "}\n",
    "\n",
    "print(myfunc.KaggleDownload(ddict))\n",
    "\n",
    "# netflix data at https://www.kaggle.com/shivamb/netflix-shows\n",
    "ddict[\"url\"] = \"https://www.kaggle.com/shivamb/netflix-shows\"\n",
    "ddict[\"file\"] = \"netflix_titles.csv\"\n",
    "\n",
    "print(myfunc.KaggleDownload(ddict))\n",
    "\n",
    "# all stream platform data at https://www.kaggle.com/ruchi798/movies-on-netflix-prime-video-hulu-and-disney\n",
    "ddict[\"url\"] = \"https://www.kaggle.com/ruchi798/movies-on-netflix-prime-video-hulu-and-disney\"\n",
    "ddict[\"file\"] = \"MoviesOnStreamingPlatforms_updated.csv\"\n",
    "\n",
    "print(myfunc.KaggleDownload(ddict))\n",
    "\n",
    "# disney+ data at https://www.kaggle.com/unanimad/disney-plus-shows\n",
    "#api.dataset_download_file(\"unanimad/disney-plus-shows\", \"disney_plus_shows.csv\", \"../resources/\", force=False, quiet=True)\n",
    "#\n",
    "## netflix data at https://www.kaggle.com/shivamb/netflix-shows\n",
    "#api.dataset_download_file(\"shivamb/netflix-shows\", \"netflix_titles.csv\", \"../resources/\", force=False, quiet=True)\n",
    "#\n",
    "## all stream platform data at https://www.kaggle.com/ruchi798/movies-on-netflix-prime-video-hulu-and-disney\n",
    "#api.dataset_download_file(\"ruchi798/movies-on-netflix-prime-video-hulu-and-disney\", \"MoviesOnStreamingPlatforms_updated.csv\", \"../resources/\", force=False, quiet=True)"
   ]
  },
  {
   "cell_type": "code",
   "execution_count": 7,
   "metadata": {},
   "outputs": [],
   "source": [
    "# unzip file for further use\n",
    "import gzip\n",
    "from zipfile import ZipFile\n",
    "import os"
   ]
  },
  {
   "cell_type": "code",
   "execution_count": 8,
   "metadata": {},
   "outputs": [],
   "source": [
    "files = [f for f in os.listdir(\"../resources\") if os.path.isfile(os.path.join(\"../resources\", f))]\n",
    "for file in files:\n",
    "#    print(file)\n",
    "    filename, ext = os.path.splitext(file)\n",
    "    if ext == \".gz\":\n",
    "        #c_name, c_ext = os.path.splitext(filename)\n",
    "        input_file = gzip.GzipFile(os.path.join(\"../resources\", file), 'rb')\n",
    "        s = input_file.read()\n",
    "        input_file.close()\n",
    "        output = open(os.path.join(\"../resources\", filename), 'wb')\n",
    "        output.write(s)\n",
    "        output.close()\n",
    "    elif ext == \".zip\":\n",
    "        with ZipFile(os.path.join(\"../resources\", file), \"r\") as zip_file:\n",
    "           zip_file.extractall(\"../resources\")"
   ]
  },
  {
   "cell_type": "markdown",
   "metadata": {},
   "source": [
    "# from https://www.imdb.com/interfaces/\n",
    "\n",
    "# title.akas.tsv.gz - Contains the following information for titles:\n",
    "    titleId (string) - a tconst, an alphanumeric unique identifier of the title\n",
    "    ordering (integer) – a number to uniquely identify rows for a given titleId\n",
    "    title (string) – the localized title\n",
    "    region (string) - the region for this version of the title\n",
    "    language (string) - the language of the title\n",
    "    types (array) - Enumerated set of attributes for this alternative title. One or more of the following: \"alternative\", \"dvd\", \"festival\", \"tv\", \"video\", \"working\", \"original\", \"imdbDisplay\". New values may be added in the future without warning\n",
    "    attributes (array) - Additional terms to describe this alternative title, not enumerated\n",
    "    isOriginalTitle (boolean) – 0: not original title; 1: original title\n",
    "\n",
    "# title.basics.tsv.gz - Contains the following information for titles:\n",
    "    tconst (string) - alphanumeric unique identifier of the title\n",
    "    titleType (string) – the type/format of the title (e.g. movie, short, tvseries, tvepisode, video, etc)\n",
    "    primaryTitle (string) – the more popular title / the title used by the filmmakers on promotional materials at the point of release\n",
    "    originalTitle (string) - original title, in the original language\n",
    "    isAdult (boolean) - 0: non-adult title; 1: adult title\n",
    "    startYear (YYYY) – represents the release year of a title. In the case of TV Series, it is the series start year\n",
    "    endYear (YYYY) – TV Series end year. ‘\\N’ for all other title types\n",
    "    runtimeMinutes – primary runtime of the title, in minutes\n",
    "    genres (string array) – includes up to three genres associated with the title\n",
    "\n",
    "# title.crew.tsv.gz – Contains the director and writer information for all the titles in IMDb. Fields include:\n",
    "    tconst (string) - alphanumeric unique identifier of the title\n",
    "    directors (array of nconsts) - director(s) of the given title\n",
    "    writers (array of nconsts) – writer(s) of the given title\n",
    "    title.episode.tsv.gz – Contains the tv episode information. Fields include:\n",
    "    tconst (string) - alphanumeric identifier of episode\n",
    "    parentTconst (string) - alphanumeric identifier of the parent TV Series\n",
    "    seasonNumber (integer) – season number the episode belongs to\n",
    "    episodeNumber (integer) – episode number of the tconst in the TV series\n",
    "    \n",
    "# title.principals.tsv.gz – Contains the principal cast/crew for titles\n",
    "    tconst (string) - alphanumeric unique identifier of the title\n",
    "    ordering (integer) – a number to uniquely identify rows for a given titleId\n",
    "    nconst (string) - alphanumeric unique identifier of the name/person\n",
    "    category (string) - the category of job that person was in\n",
    "    job (string) - the specific job title if applicable, else '\\N'\n",
    "    characters (string) - the name of the character played if applicable, else '\\N'\n",
    "    \n",
    "# title.ratings.tsv.gz – Contains the IMDb rating and votes information for titles\n",
    "    tconst (string) - alphanumeric unique identifier of the title\n",
    "    averageRating – weighted average of all the individual user ratings\n",
    "    numVotes - number of votes the title has received\n",
    "\n",
    "# name.basics.tsv.gz – Contains the following information for names:\n",
    "    nconst (string) - alphanumeric unique identifier of the name/person\n",
    "    primaryName (string)– name by which the person is most often credited\n",
    "    birthYear – in YYYY format\n",
    "    deathYear – in YYYY format if applicable, else '\\N'\n",
    "    primaryProfession (array of strings)– the top-3 professions of the person\n",
    "    knownForTitles (array of tconsts) – titles the person is known for"
   ]
  },
  {
   "cell_type": "code",
   "execution_count": null,
   "metadata": {},
   "outputs": [],
   "source": []
  }
 ],
 "metadata": {
  "kernelspec": {
   "display_name": "Python [conda env:PythonData] *",
   "language": "python",
   "name": "conda-env-PythonData-py"
  },
  "language_info": {
   "codemirror_mode": {
    "name": "ipython",
    "version": 3
   },
   "file_extension": ".py",
   "mimetype": "text/x-python",
   "name": "python",
   "nbconvert_exporter": "python",
   "pygments_lexer": "ipython3",
   "version": "3.8.5"
  }
 },
 "nbformat": 4,
 "nbformat_minor": 4
}
